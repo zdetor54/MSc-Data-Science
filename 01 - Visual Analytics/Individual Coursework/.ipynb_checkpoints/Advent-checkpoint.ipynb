{
 "cells": [
  {
   "cell_type": "markdown",
   "metadata": {},
   "source": [
    "https://kepler.bjss.com/display/BAC2019/BJSS+Advent+of+Code+2019 "
   ]
  },
  {
   "cell_type": "code",
   "execution_count": 6,
   "metadata": {},
   "outputs": [],
   "source": [
    "import pandas as pd\n",
    "import numpy as np\n",
    "\n",
    "import math"
   ]
  },
  {
   "cell_type": "code",
   "execution_count": 4,
   "metadata": {},
   "outputs": [],
   "source": [
    "modules = [129880, 115705, 118585, 124631, 81050, 138183, 61173, 95354, 130788, 89082, 75554, 110104, 140528, 71783, 125889, 126602, 73089, 76822, 51774, 85940, 81004, 149584, 145921, 105570, 142370, 80823, 147779, 115651, 70250, 67763, 128192, 51298, 134963, 73510, 90976, 141216, 65134, 140468, 143998, 101711, 88477, 53335, 138328, 141186, 149804, 64950, 53107, 54648, 97557, 85927, 125038, 80514, 64912, 140591, 114229, 57089, 123464, 127572, 137169, 146550, 51138, 115504, 128034, 147244, 108107, 101205, 51498, 136829, 140171, 59441, 144489, 139384, 145841, 96771, 116821, 88599, 126780, 65012, 67621, 129699, 149639, 97590, 147527, 117462, 146709, 60527, 107643, 92956, 72177, 92285, 62475, 63099, 66904, 77268, 62945, 134364, 106924, 117842, 130016, 123712]"
   ]
  },
  {
   "cell_type": "code",
   "execution_count": 15,
   "metadata": {},
   "outputs": [],
   "source": [
    "def fuelCalc(mass):\n",
    "    total_fuel = 0\n",
    "    fuel = math.floor(mass/3)-2\n",
    "    while fuel>0:\n",
    "        total_fuel += fuel\n",
    "        fuel = math.floor(fuel/3)-2\n",
    "    return total_fuel"
   ]
  },
  {
   "cell_type": "code",
   "execution_count": 14,
   "metadata": {},
   "outputs": [
    {
     "data": {
      "text/plain": [
       "50346"
      ]
     },
     "execution_count": 14,
     "metadata": {},
     "output_type": "execute_result"
    }
   ],
   "source": [
    "fuelCalc(100756 )"
   ]
  },
  {
   "cell_type": "code",
   "execution_count": 16,
   "metadata": {},
   "outputs": [
    {
     "data": {
      "text/plain": [
       "5214475"
      ]
     },
     "execution_count": 16,
     "metadata": {},
     "output_type": "execute_result"
    }
   ],
   "source": [
    "total = 0\n",
    "\n",
    "for module in modules:\n",
    "    total += fuelCalc(module)\n",
    "\n",
    "total"
   ]
  },
  {
   "cell_type": "markdown",
   "metadata": {},
   "source": [
    "## Day 2"
   ]
  },
  {
   "cell_type": "code",
   "execution_count": 20,
   "metadata": {},
   "outputs": [],
   "source": [
    "input = [1,0,0,3,1,1,2,3,1,3,4,3,1,5,0,3,2,1,10,19,1,19,5,23,1,6,23,27,1,27,5,31,2,31,10,35,2,35,6,39,1,39,5,43,2,43,9,47,1,47,6,51,1,13,51,55,2,9,55,59,1,59,13,63,1,6,63,67,2,67,10,71,1,9,71,75,2,75,6,79,1,79,5,83,1,83,5,87,2,9,87,91,2,9,91,95,1,95,10,99,1,9,99,103,2,103,6,107,2,9,107,111,1,111,5,115,2,6,115,119,1,5,119,123,1,123,2,127,1,127,9,0,99,2,0,14,0]"
   ]
  },
  {
   "cell_type": "code",
   "execution_count": 22,
   "metadata": {},
   "outputs": [
    {
     "data": {
      "text/plain": [
       "34"
      ]
     },
     "execution_count": 22,
     "metadata": {},
     "output_type": "execute_result"
    }
   ],
   "source": [
    "math.floor(len(input)/4)"
   ]
  },
  {
   "cell_type": "code",
   "execution_count": 29,
   "metadata": {},
   "outputs": [
    {
     "name": "stdout",
     "output_type": "stream",
     "text": [
      "1\n",
      "1\n",
      "1\n",
      "1\n",
      "2\n",
      "1\n",
      "1\n",
      "1\n",
      "2\n",
      "2\n",
      "1\n",
      "2\n",
      "1\n",
      "1\n",
      "2\n",
      "1\n",
      "1\n",
      "2\n",
      "1\n",
      "2\n",
      "1\n",
      "1\n",
      "2\n",
      "2\n",
      "1\n",
      "1\n",
      "2\n",
      "2\n",
      "1\n",
      "2\n",
      "1\n",
      "1\n",
      "1\n",
      "99\n",
      "0\n"
     ]
    }
   ],
   "source": [
    "for i in range(math.ceil(len(input)/4)):\n",
    "    opcode = input[i*4]\n",
    "    in_pos1 = input[i*4+1]\n",
    "    in_pos2 = input[i*4+2]\n",
    "    out_pos = input[i*4+3]\n",
    "    if "
   ]
  },
  {
   "cell_type": "code",
   "execution_count": null,
   "metadata": {},
   "outputs": [],
   "source": []
  }
 ],
 "metadata": {
  "kernelspec": {
   "display_name": "Python 3",
   "language": "python",
   "name": "python3"
  },
  "language_info": {
   "codemirror_mode": {
    "name": "ipython",
    "version": 3
   },
   "file_extension": ".py",
   "mimetype": "text/x-python",
   "name": "python",
   "nbconvert_exporter": "python",
   "pygments_lexer": "ipython3",
   "version": "3.7.3"
  }
 },
 "nbformat": 4,
 "nbformat_minor": 2
}
