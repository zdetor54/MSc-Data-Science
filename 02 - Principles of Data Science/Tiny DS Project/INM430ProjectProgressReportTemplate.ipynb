{
 "cells": [
  {
   "cell_type": "markdown",
   "metadata": {},
   "source": [
    "# INM430 - Tiny DS Project Progress Report\n",
    "\n",
    "\n",
    "**Student Name:** Zacharias Detorakis\n",
    "\n",
    "**Project Title:** Impact of global economic crisis to migration in UK"
   ]
  },
  {
   "cell_type": "markdown",
   "metadata": {},
   "source": [
    "## Part-1: Data source and domain description (maximum 150 words):\n",
    "\n",
    "The scope of this analysis is to investigate the effects of global economic crisis to international migration in the recent years. Even though the long-term effect may need a few more years before it can be properly studied there is now enough evidence to support a short-term analysis. Two separate datasets will be used to support this analysis:\n",
    "- One from the World Bank [ http://datatopics.worldbank.org/world-development-indicators/ ] that has several indices representing the financial status of a country. These data spans 4 decades and comprises a plethora of indicators that need to be assessed for their relevance.\n",
    "- One from the department of work and pensions [ https://data.london.gov.uk/dataset/national-insurance-number-registrations-overseas-nationals-borough ] which contains data for the NI numbers issued to other nationals over that last few years. UK is used here as a benchmark as it attracts professionals from all over the globe for several reasons.\n",
    "\n",
    "***\n",
    "\n",
    "## Part-2: Analysis Strategy and Plans (maximum 200 words):\n",
    "\n",
    "Initial investigation: understand which of the reported attributes are relevant to the analytical questions that we need to answer. There are numerous columns so we may need to see how we can reduce some of those dimensions (perhaps use some correlation technique to identify dependencies within the data). Perhaps gather some additional data to inform distances between the stated countries and the UK as distance might is an independent factor that affects migration regardless of the crisis so it might be beneficial to include in the model.\n",
    "\n",
    "Assess the data quality and ensure that there is enough data in both datasets to cover the period in question. Identify a way to merge the data (i.e. common keys). Because this is timeseries data and we can to measure the effect of a trend we may need to derive increase or decrease over a period. Perhaps also normalise the data based on the population of the different countries to have all data at the same scale.\n",
    "\n",
    "I’ve not yet decided on the data analysis algorithms as I am expecting some of that to be informed by the feature engineering phase and/or additional knowledge gained in later lectures for the course.\n",
    "\n",
    "...\n",
    "***\n",
    "\n",
    "## Part-3: Initial investigations on the data sources (maximum 150 words): \n",
    "\n",
    "... Insert your text here ...\n",
    "\n",
    "***\n",
    "\n",
    "## Part-4: Python code for initial investigations"
   ]
  },
  {
   "cell_type": "code",
   "execution_count": null,
   "metadata": {},
   "outputs": [],
   "source": [
    "# The following is essential to get your matplotlib plots inline, so do not miss this one if you have graphics.\n",
    "%matplotlib inline\n",
    "\n",
    "# Import Libraries\n",
    "import csv as csv \n",
    "import numpy as np\n",
    "import pandas as pd"
   ]
  },
  {
   "cell_type": "code",
   "execution_count": 5,
   "metadata": {
    "collapsed": false,
    "jupyter": {
     "outputs_hidden": false
    }
   },
   "outputs": [],
   "source": [
    "# This cell is where you can copy + paste your Python code which loads your data and produces \n",
    "# When you press CTRL+Enter, this cell will execute and produce some output\n",
    "# You can develop your code in Spyder (or another IDE) and copy + paste over here\n",
    "\n",
    "# Step-1: Load your data\n",
    "\n",
    "# Step-2: Get an overview of the data features, some suggestions to look for:\n",
    "#         number of features, data types, any missing values?, \n",
    "#         any transformations needed?\n",
    "\n",
    "# Start with your import (s) here.\n",
    "\n",
    "# The following is essential to get your matplotlib plots inline, so do not miss this one if you have graphics.\n",
    "\n",
    "# Continue here with your code\n",
    "\n",
    "# melt()\n",
    "\n",
    "wdi_data = pd.read_csv(\"WDIData.csv\")\n",
    "nin_data = pd.read_csv(\"national-insurance-number-registrations.csv\",encoding='latin-1')"
   ]
  },
  {
   "cell_type": "code",
   "execution_count": 6,
   "metadata": {},
   "outputs": [
    {
     "name": "stdout",
     "output_type": "stream",
     "text": [
      "Number of Indicators: 1431\n",
      "Number of Countries: 264\n",
      "Index(['Country Name', 'Country Code', 'Indicator Name', 'Indicator Code',\n",
      "       '1960', '1961', '1962', '1963', '1964', '1965', '1966', '1967', '1968',\n",
      "       '1969', '1970', '1971', '1972', '1973', '1974', '1975', '1976', '1977',\n",
      "       '1978', '1979', '1980', '1981', '1982', '1983', '1984', '1985', '1986',\n",
      "       '1987', '1988', '1989', '1990', '1991', '1992', '1993', '1994', '1995',\n",
      "       '1996', '1997', '1998', '1999', '2000', '2001', '2002', '2003', '2004',\n",
      "       '2005', '2006', '2007', '2008', '2009', '2010', '2011', '2012', '2013',\n",
      "       '2014', '2015', '2016', '2017', '2018', '2019', 'Unnamed: 64'],\n",
      "      dtype='object')\n"
     ]
    }
   ],
   "source": [
    "indicators = wdi_data[\"Indicator Name\"].unique()\n",
    "print(\"Number of Indicators: {}\".format(len(indicators)))\n",
    "\n",
    "countries = wdi_data[\"Country Name\"].unique()\n",
    "print(\"Number of Countries: {}\".format(len(countries)))\n",
    "\n",
    "print(wdi_data.columns)"
   ]
  },
  {
   "cell_type": "code",
   "execution_count": 7,
   "metadata": {},
   "outputs": [
    {
     "data": {
      "text/plain": [
       "array(['2002/03', '2003/04', '2004/05', '2005/06', '2006/07', '2007/08',\n",
       "       '2008/09', '2009/10', '2010/11', '2011/12', '2012/13', '2013/14',\n",
       "       '2014/15', '2015/16', '2016/17', '2017/18', '2018/19'],\n",
       "      dtype=object)"
      ]
     },
     "execution_count": 7,
     "metadata": {},
     "output_type": "execute_result"
    }
   ],
   "source": [
    "nin_data.Year.unique()"
   ]
  },
  {
   "cell_type": "markdown",
   "metadata": {},
   "source": [
    "Given that we only have NI Number from 2002 onwards we can drop all previous years from the dataframe to free up space and focus the analysis on the years that are of interest"
   ]
  },
  {
   "cell_type": "code",
   "execution_count": 8,
   "metadata": {},
   "outputs": [
    {
     "name": "stdout",
     "output_type": "stream",
     "text": [
      "Index(['Country Name', 'Country Code', 'Indicator Name', 'Indicator Code',\n",
      "       '2001', '2002', '2003', '2004', '2005', '2006', '2007', '2008', '2009',\n",
      "       '2010', '2011', '2012', '2013', '2014', '2015', '2016', '2017', '2018',\n",
      "       '2019', 'Unnamed: 64'],\n",
      "      dtype='object')\n"
     ]
    }
   ],
   "source": [
    "years_to_delete = list(range(1960,2001))\n",
    "years_to_delete = list(map(str, years_to_delete))\n",
    "wdi_data.drop(labels=years_to_delete,axis=1,inplace=True)\n",
    "\n",
    "print(wdi_data.columns)"
   ]
  },
  {
   "cell_type": "markdown",
   "metadata": {},
   "source": [
    "Next I'll try to see how the 1431 indicators best describe the wealth index and then drill down on additional exploratory data analysis before I proceed with selecting the indicators to use for feature engineering."
   ]
  }
 ],
 "metadata": {
  "kernelspec": {
   "display_name": "Python 3",
   "language": "python",
   "name": "python3"
  },
  "language_info": {
   "codemirror_mode": {
    "name": "ipython",
    "version": 3
   },
   "file_extension": ".py",
   "mimetype": "text/x-python",
   "name": "python",
   "nbconvert_exporter": "python",
   "pygments_lexer": "ipython3",
   "version": "3.7.4"
  }
 },
 "nbformat": 4,
 "nbformat_minor": 4
}
