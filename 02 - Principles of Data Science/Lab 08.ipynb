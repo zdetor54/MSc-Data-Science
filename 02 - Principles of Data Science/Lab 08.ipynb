{
 "cells": [
  {
   "cell_type": "markdown",
   "metadata": {},
   "source": [
    "# Exercise 1: ECG prediction\n",
    "\n",
    "Let's work on an example using ECG recordings, in order to illustrate K-fold cross validation and model selection.\n",
    "\n",
    "The dataset is composed of two files, one for normal ECG, one for abnormal ECG.\n",
    "The last column of the dataset is giving the class: 1 for abnormal ECG, 0 for normal ECG.\n",
    "\n",
    "We will consider this example as a classification problem. In order to reduce computation time, we select the first 4000 samples of each file.\n",
    "\n",
    "1/ Load the data, plot some normal and abnormal ECGs\n",
    "\n",
    "2/ Split the data into a training set and a testing set (80/20)\n",
    "\n",
    "3/ Perform PCA on your training set and plot the explained variance ratio of the components of the PCA. Decide on a number of components and compress your data using PCA.\n",
    "\n",
    "Train a first classifier using Suport Vector Machine (class SVC in sklearn with gamma = 'auto'), with the training data compressed through PCA. Evaluate on your test set.\n",
    "\n",
    "4/ Now we will generalize this approach with K-fold cross validation. \n",
    "Use sklearn's KFold class to split your dataset set into 6 folds.\n",
    "\n",
    "5/ Evaluate your classifier on the whole dataset, using k-fold cross-validation. \n",
    "\n",
    "6/ Model selection: evaluate your model for different values for hyperparameters:\n",
    "- number of pca components (10, 20, 30, 40 or 60 components)\n",
    "- pca whitening: True or False\n",
    "- kernel type for the SVC: 'linear', 'poly', 'rbf', 'sigmoid'\n",
    "\n",
    "6.1/ optional: run your best model 10 times with different folds each time.\n",
    "\n",
    "7/ Select the best model, train it using 10 folds cross validation, and predict the probability of class=1 being detected on the whole training set  (using the flag probability=True). \n",
    "\n",
    "8/ Now, sklearn decides on itself on a classification threshold for the SVC. We could pick the classification threshold ourself to enforce certain results. \n",
    "\n",
    "Evaluate, for each sample in the test set, the probability of class 1. The class 1 is indeed chosen if the probability is above the classification threshold. When we vary the classification threshold, we vary our decision and the resulting false positive rate and true positive rate.\n",
    "\n",
    "Calculate, for several values of classification threshold, the False positive rate FPR and True positive rate TPR, and plot a ROC curve.\n",
    "\n",
    "Let's say that we want to detect 99% of the Heart diseases, what classification threshold should we select?\n",
    "\n",
    "What does it mean then in terms of false positive rate, that is the proportion of diagnostic which were predicted as Heart disease but actually were not? (Also called probability of false alarm)."
   ]
  },
  {
   "cell_type": "markdown",
   "metadata": {},
   "source": [
    "### 1/ Load the data"
   ]
  },
  {
   "cell_type": "code",
   "execution_count": 2,
   "metadata": {},
   "outputs": [],
   "source": [
    "import matplotlib.pyplot as plt\n",
    "import numpy as np\n",
    "from sklearn.decomposition import PCA\n",
    "from sklearn import datasets\n",
    "from sklearn.cluster import KMeans\n",
    "import pandas as pd\n",
    "\n",
    "ecg_normal = pd.read_csv('data/ptbdb_normal.csv').to_numpy()[:4000]\n",
    "ecg_abnormal = pd.read_csv('data/ptbdb_abnormal.csv').to_numpy()[:4000]\n",
    "\n",
    "ecg_data = np.concatenate( [ecg_normal, ecg_abnormal], axis = 0 )"
   ]
  },
  {
   "cell_type": "code",
   "execution_count": 3,
   "metadata": {},
   "outputs": [
    {
     "data": {
      "text/plain": [
       "[<matplotlib.lines.Line2D at 0x1e9c9869288>]"
      ]
     },
     "execution_count": 3,
     "metadata": {},
     "output_type": "execute_result"
    },
    {
     "data": {
      "image/png": "[encoded data removed]",
      "text/plain": [
       "<Figure size 432x288 with 1 Axes>"
      ]
     },
     "metadata": {
      "needs_background": "light"
     },
     "output_type": "display_data"
    }
   ],
   "source": [
    "plt.plot(range(len(ecg_data[0,:])), ecg_data[-10,:])"
   ]
  },
  {
   "cell_type": "markdown",
   "metadata": {},
   "source": [
    "### 2/ Create training and testing sets"
   ]
  },
  {
   "cell_type": "code",
   "execution_count": 4,
   "metadata": {},
   "outputs": [],
   "source": [
    "import numpy.random as random\n",
    "\n",
    "# Set the seed so that we have the same results\n",
    "random.seed(0)\n",
    "random.shuffle(ecg_data)\n",
    "\n",
    "X_train = ecg_data[ :int(len(ecg_data)*0.8 ), :-1 ]\n",
    "y_train = ecg_data[ :int(len(ecg_data)*0.8 ), -1 ]\n",
    "\n",
    "X_test = ecg_data[ int(len(ecg_data)*0.8):, :-1 ]\n",
    "y_test = ecg_data[ int(len(ecg_data)*0.8):, -1 ]"
   ]
  },
  {
   "cell_type": "markdown",
   "metadata": {},
   "source": [
    "### 3/ Train a Classifier and evaluate the results\n",
    "\n",
    "Compress your data using PCA, choose a number of components by plotting the explained variance ratio.\n",
    "\n",
    "Use the vanilla version of SVC"
   ]
  },
  {
   "cell_type": "code",
   "execution_count": 5,
   "metadata": {},
   "outputs": [
    {
     "data": {
      "text/plain": [
       "[<matplotlib.lines.Line2D at 0x1e9c992b688>]"
      ]
     },
     "execution_count": 5,
     "metadata": {},
     "output_type": "execute_result"
    },
    {
     "data": {
      "image/png": "[encoded data removed]",
      "text/plain": [
       "<Figure size 432x288 with 1 Axes>"
      ]
     },
     "metadata": {
      "needs_background": "light"
     },
     "output_type": "display_data"
    }
   ],
   "source": [
    "from sklearn.decomposition import PCA\n",
    "\n",
    "pca = PCA()\n",
    "\n",
    "pca.fit(X_train)\n",
    "\n",
    "plt.plot( range(len(pca.explained_variance_ratio_)), pca.explained_variance_ratio_ ) "
   ]
  },
  {
   "cell_type": "markdown",
   "metadata": {},
   "source": [
    "We choose empirically 20 components. Note that this is a subjective choice, and we don't know if this choice makes sense without actual measures."
   ]
  },
  {
   "cell_type": "code",
   "execution_count": 6,
   "metadata": {},
   "outputs": [],
   "source": [
    "pca = PCA(n_components = 20).fit(X_train)\n",
    "\n",
    "X_train_compressed = pca.transform(X_train)\n",
    "X_test_compressed = pca.transform(X_test)\n"
   ]
  },
  {
   "cell_type": "code",
   "execution_count": 7,
   "metadata": {},
   "outputs": [
    {
     "name": "stdout",
     "output_type": "stream",
     "text": [
      "0.810625\n",
      "0.498125\n"
     ]
    }
   ],
   "source": [
    "from sklearn.svm import SVC\n",
    "\n",
    "classifier = SVC(gamma = 'auto')\n",
    "classifier.fit(X_train_compressed, y_train)\n",
    "\n",
    "print(classifier.score( X_test_compressed, y_test))\n",
    "\n",
    "# We can verify that the classifier is not just naively predicting the class 1 all the time, \n",
    "# by calculating the number of class one present in the dataset.\n",
    "print(sum(y_test == 1) / len(y_test))\n"
   ]
  },
  {
   "cell_type": "markdown",
   "metadata": {},
   "source": [
    "We are indeed clearly above chance level, so our classifier is able to learn from the data.\n",
    "You can also plot the confusion matrix to verify the count of TP, FP, TN and FN.\n"
   ]
  },
  {
   "cell_type": "markdown",
   "metadata": {},
   "source": [
    "### 4 and 5 - Generalization with K-folds cross validation\n",
    "\n",
    "We use KFold from sklearn, but it is possible to use other built-in functions. It is also possible to do the KFold by hand, but it could be a little bit strenuous.\n",
    "\n",
    "We evaluate our first model over the whole dataset\n",
    "\n"
   ]
  },
  {
   "cell_type": "code",
   "execution_count": 8,
   "metadata": {},
   "outputs": [
    {
     "name": "stdout",
     "output_type": "stream",
     "text": [
      "Score of our first model with K-fold:  0.829749416364586\n"
     ]
    }
   ],
   "source": [
    "from sklearn.model_selection import KFold\n",
    "\n",
    "X = ecg_data[ :, :-1 ]\n",
    "y = ecg_data[ :, -1 ]\n",
    "\n",
    "kf = KFold(n_splits=6, random_state=42)\n",
    "\n",
    "score = 0\n",
    "\n",
    "for train_index, test_index in kf.split(X):\n",
    "    X_train, X_test = X[train_index], X[test_index]\n",
    "    y_train, y_test = y[train_index], y[test_index]\n",
    "\n",
    "    pca = PCA(n_components = 20).fit(X_train)\n",
    "    X_train_compressed = pca.transform(X_train)\n",
    "    X_test_compressed = pca.transform(X_test)\n",
    "    \n",
    "    classifier = SVC( gamma = 'auto')\n",
    "    classifier.fit(X_train_compressed, y_train)\n",
    "\n",
    "    score +=   classifier.score( X_test_compressed, y_test)\n",
    "\n",
    "print('Score of our first model with K-fold: ', score/6)"
   ]
  },
  {
   "cell_type": "markdown",
   "metadata": {},
   "source": [
    "The score is not too far from the original basic test/train split.\n"
   ]
  },
  {
   "cell_type": "markdown",
   "metadata": {},
   "source": [
    "### 6 - Model selection\n",
    "\n",
    "We will perform model selection with these different features:\n",
    "- pca (10, 20, 30, 40, 60 components)\n",
    "- pca whitening or not\n",
    "- kernel type\n",
    "- k-fold cross validation with 6 folds\n",
    "\n",
    "Select the best model."
   ]
  },
  {
   "cell_type": "code",
   "execution_count": 9,
   "metadata": {},
   "outputs": [
    {
     "name": "stdout",
     "output_type": "stream",
     "text": [
      "Number of PCA components:  10 , whiten:  True , kernel:  poly , score:  0.8322470422703128\n",
      "Number of PCA components:  20 , whiten:  True , kernel:  poly , score:  0.8801248288084015\n",
      "Number of PCA components:  30 , whiten:  True , kernel:  poly , score:  0.8933763613317122\n",
      "Number of PCA components:  40 , whiten:  True , kernel:  poly , score:  0.8941260802456986\n",
      "Number of PCA components:  60 , whiten:  True , kernel:  poly , score:  0.8786236101754074\n",
      "Number of PCA components:  10 , whiten:  False , kernel:  poly , score:  0.734002747313515\n",
      "Number of PCA components:  20 , whiten:  False , kernel:  poly , score:  0.6356315465673016\n",
      "Number of PCA components:  30 , whiten:  False , kernel:  poly , score:  0.5965034174585625\n",
      "Number of PCA components:  40 , whiten:  False , kernel:  poly , score:  0.576876977865156\n",
      "Number of PCA components:  60 , whiten:  False , kernel:  poly , score:  0.5536283808583331\n",
      "Number of PCA components:  10 , whiten:  True , kernel:  rbf , score:  0.8764984536988819\n",
      "Number of PCA components:  20 , whiten:  True , kernel:  rbf , score:  0.8932504865346772\n",
      "Number of PCA components:  30 , whiten:  True , kernel:  rbf , score:  0.9056253943545857\n",
      "Number of PCA components:  40 , whiten:  True , kernel:  rbf , score:  0.9072503320732733\n",
      "Number of PCA components:  60 , whiten:  True , kernel:  rbf , score:  0.9027526746754155\n",
      "Number of PCA components:  10 , whiten:  False , kernel:  rbf , score:  0.8332503853099706\n",
      "Number of PCA components:  20 , whiten:  False , kernel:  rbf , score:  0.8303769158181599\n",
      "Number of PCA components:  30 , whiten:  False , kernel:  rbf , score:  0.820375071279064\n",
      "Number of PCA components:  40 , whiten:  False , kernel:  rbf , score:  0.8171238836695681\n",
      "Number of PCA components:  60 , whiten:  False , kernel:  rbf , score:  0.8111251950918764\n",
      "Number of PCA components:  10 , whiten:  True , kernel:  sigmoid , score:  0.6187505459573289\n",
      "Number of PCA components:  20 , whiten:  True , kernel:  sigmoid , score:  0.6307524219885556\n",
      "Number of PCA components:  30 , whiten:  True , kernel:  sigmoid , score:  0.6175032326297466\n",
      "Number of PCA components:  40 , whiten:  True , kernel:  sigmoid , score:  0.6486255184485775\n",
      "Number of PCA components:  60 , whiten:  True , kernel:  sigmoid , score:  0.6630003640340371\n",
      "Number of PCA components:  10 , whiten:  False , kernel:  sigmoid , score:  0.6272507969571104\n",
      "Number of PCA components:  20 , whiten:  False , kernel:  sigmoid , score:  0.6987474004933016\n",
      "Number of PCA components:  30 , whiten:  False , kernel:  sigmoid , score:  0.7461238435545918\n",
      "Number of PCA components:  40 , whiten:  False , kernel:  sigmoid , score:  0.7721296890939375\n",
      "Number of PCA components:  60 , whiten:  False , kernel:  sigmoid , score:  0.7861260667490712\n",
      "Number of PCA components:  10 , whiten:  True , kernel:  linear , score:  0.7555010941640958\n",
      "Number of PCA components:  20 , whiten:  True , kernel:  linear , score:  0.7878757545458329\n",
      "Number of PCA components:  30 , whiten:  True , kernel:  linear , score:  0.7885010045614852\n",
      "Number of PCA components:  40 , whiten:  True , kernel:  linear , score:  0.7886220993029367\n",
      "Number of PCA components:  60 , whiten:  True , kernel:  linear , score:  0.7981225066386538\n",
      "Number of PCA components:  10 , whiten:  False , kernel:  linear , score:  0.7553767189923418\n",
      "Number of PCA components:  20 , whiten:  False , kernel:  linear , score:  0.7876255045770438\n",
      "Number of PCA components:  30 , whiten:  False , kernel:  linear , score:  0.7876262543896844\n",
      "Number of PCA components:  40 , whiten:  False , kernel:  linear , score:  0.7901237865688312\n",
      "Number of PCA components:  60 , whiten:  False , kernel:  linear , score:  0.7953736934983371\n"
     ]
    }
   ],
   "source": [
    "# We create a function to clarify the code\n",
    "\n",
    "def evaluate_model(X, y, n_comp, whitening, kernel):\n",
    "\n",
    "    kf = KFold(n_splits=6, shuffle=True)\n",
    "\n",
    "    score = 0\n",
    "\n",
    "    for train_index, test_index in kf.split(X):\n",
    "        X_train, X_test = X[train_index], X[test_index]\n",
    "        y_train, y_test = y[train_index], y[test_index]\n",
    "\n",
    "        pca = PCA(n_components = n_comp, whiten = whitening).fit(X_train)\n",
    "        X_train_compressed = pca.transform(X_train)\n",
    "        X_test_compressed = pca.transform(X_test)\n",
    "\n",
    "        classifier = SVC( kernel = kernel, gamma = 'auto')\n",
    "        classifier.fit(X_train_compressed, y_train)\n",
    "\n",
    "        score +=   classifier.score( X_test_compressed, y_test)\n",
    "        \n",
    "    return score/6\n",
    "\n",
    "\n",
    "for kernel in ['poly', 'rbf', 'sigmoid', 'linear']:\n",
    "    \n",
    "    for whitening in [True, False]:\n",
    "        \n",
    "        for n_comp in [10, 20, 30, 40, 60]:\n",
    "            \n",
    "            score = evaluate_model(X, y, n_comp, whitening, kernel)\n",
    "            \n",
    "            \n",
    "            print('Number of PCA components: ', n_comp, ', whiten: ', whitening, ', kernel: ', kernel, ', score: ', score)\n"
   ]
  },
  {
   "cell_type": "markdown",
   "metadata": {},
   "source": [
    "First observation: PCA whitening helps a lot with rbf and poly.\n",
    "Ultimately, at this point we would like to perform feature selection on the PCA dimensions, instead of just selecting the first few ones. But it is out of the scope of this exercise.\n",
    "\n",
    "Best case, in our case, is:\n",
    "Number of PCA components:  30 , whiten:  True , kernel:  rbf , score:  0.9056253943545857.\n",
    "The results may vary depending on your random shuffling.\n",
    "\n",
    "Now let's draw statistics over our model: Are we just lucky with our data split or does the model generalizes well?"
   ]
  },
  {
   "cell_type": "code",
   "execution_count": 10,
   "metadata": {},
   "outputs": [
    {
     "name": "stdout",
     "output_type": "stream",
     "text": [
      "test  0 : 0.9095014570734138\n",
      "test  1 : 0.9063764254406931\n",
      "test  2 : 0.9088745199793203\n",
      "test  3 : 0.9085015819172183\n",
      "test  4 : 0.907375738237408\n",
      "test  5 : 0.9072504257998532\n",
      "test  6 : 0.9076284250972789\n",
      "test  7 : 0.9082511444952693\n",
      "test  8 : 0.9088746137059003\n",
      "test  9 : 0.9058750819638943\n",
      "Statistics over best model: mean : 0.9078509413710251 ,var:  1.2117484048436908e-06\n"
     ]
    }
   ],
   "source": [
    "\n",
    "scores = []\n",
    "\n",
    "for i in range(10):\n",
    "    score = evaluate_model(X, y, 40, True, 'rbf')\n",
    "    scores.append(score)\n",
    "    print( 'test ', i, ':', score)\n",
    "    \n",
    "print('Statistics over best model: mean :', np.mean(scores), ',var: ', np.var(scores))"
   ]
  },
  {
   "cell_type": "markdown",
   "metadata": {},
   "source": [
    "The results are consistent, and the variance is low, which means that the accuracy of our model doesn't depend too much on the data points we picked for training and testing.\n",
    "\n",
    "### 7 - Training and predicting\n",
    "\n",
    "Now let's train on the whole dataset and predict on our testing set.\n",
    "\n",
    "In order to perform more analysis, set probability = True in the SVC.\n",
    "\n",
    "This way, we can predict the class 1 in terms of probability\n",
    "\n"
   ]
  },
  {
   "cell_type": "code",
   "execution_count": 11,
   "metadata": {},
   "outputs": [],
   "source": [
    "kf = KFold(n_splits=10, shuffle=True)\n",
    "\n",
    "y_true = []\n",
    "y_pred = []\n",
    "\n",
    "for train_index, test_index in kf.split(X):\n",
    "    X_train, X_test = X[train_index], X[test_index]\n",
    "    y_train, y_test = y[train_index], y[test_index]\n",
    "\n",
    "    pca = PCA(n_components = 40, whiten = True).fit(X_train)\n",
    "    X_train_compressed = pca.transform(X_train)\n",
    "    X_test_compressed = pca.transform(X_test)\n",
    "\n",
    "    classifier = SVC( kernel = 'rbf', gamma = 'auto', probability=True)\n",
    "    pred = classifier.fit(X_train_compressed, y_train).predict_proba(X_test_compressed)[:,1]\n",
    "    \n",
    "    y_true.append(y_test)\n",
    "    y_pred.append(pred)"
   ]
  },
  {
   "cell_type": "code",
   "execution_count": 12,
   "metadata": {},
   "outputs": [],
   "source": [
    "y_true=np.concatenate(y_true)\n",
    "y_pred=np.concatenate(y_pred)"
   ]
  },
  {
   "cell_type": "markdown",
   "metadata": {},
   "source": [
    "Now, we can calculate the TPR and FPR in order to plot a ROC curve."
   ]
  },
  {
   "cell_type": "code",
   "execution_count": 14,
   "metadata": {},
   "outputs": [
    {
     "name": "stdout",
     "output_type": "stream",
     "text": [
      "0.0 1.0 1.0\n",
      "0.01 0.99925 0.92225\n",
      "0.02 0.9985 0.84575\n",
      "0.03 0.9965 0.77875\n",
      "0.04 0.99375 0.70425\n",
      "0.05 0.9905 0.63125\n",
      "0.06 0.986 0.552\n",
      "0.07 0.98175 0.46975\n",
      "0.08 0.9785 0.41275\n",
      "0.09 0.977 0.3635\n",
      "0.1 0.9755 0.32975\n",
      "0.11 0.972 0.30275\n",
      "0.12 0.96975 0.28\n",
      "0.13 0.9685 0.253\n",
      "0.14 0.9655 0.23475\n",
      "0.15 0.96375 0.22175\n",
      "0.16 0.96275 0.20975\n",
      "0.17 0.96175 0.19925\n",
      "0.18 0.9605 0.1895\n",
      "0.19 0.9585 0.1775\n",
      "0.2 0.9575 0.16875\n",
      "0.21 0.95625 0.16125\n",
      "0.22 0.95475 0.155\n",
      "0.23 0.952 0.1485\n",
      "0.24 0.95 0.14275\n",
      "0.25 0.94825 0.13625\n",
      "0.26 0.9465 0.13075\n",
      "0.27 0.94475 0.1285\n",
      "0.28 0.943 0.12475\n",
      "0.29 0.9405 0.1215\n",
      "0.3 0.94 0.118\n",
      "0.31 0.938 0.11575\n",
      "0.32 0.93575 0.11125\n",
      "0.33 0.9345 0.10925\n",
      "0.34 0.932 0.10675\n",
      "0.35 0.9305 0.10425\n",
      "0.36 0.92825 0.102\n",
      "0.37 0.9255 0.099\n",
      "0.38 0.9225 0.09675\n",
      "0.39 0.91975 0.09475\n",
      "0.4 0.91825 0.093\n",
      "0.41 0.91575 0.09075\n",
      "0.42 0.91425 0.08875\n",
      "0.43 0.912 0.0875\n",
      "0.44 0.9105 0.08575\n",
      "0.45 0.909 0.0835\n",
      "0.46 0.907 0.0795\n",
      "0.47 0.90475 0.078\n",
      "0.48 0.90325 0.07575\n",
      "0.49 0.90175 0.0735\n",
      "0.5 0.89825 0.07025\n",
      "0.51 0.89775 0.0695\n",
      "0.52 0.89475 0.06675\n",
      "0.53 0.89225 0.06575\n",
      "0.54 0.889 0.0645\n",
      "0.55 0.88675 0.0635\n",
      "0.56 0.8855 0.06075\n",
      "0.57 0.88375 0.05975\n",
      "0.58 0.87975 0.05875\n",
      "0.59 0.8775 0.05775\n",
      "0.6 0.8745 0.057\n",
      "0.61 0.872 0.05625\n",
      "0.62 0.86875 0.05425\n",
      "0.63 0.8655 0.0525\n",
      "0.64 0.8615 0.05125\n",
      "0.65 0.85775 0.0495\n",
      "0.66 0.85425 0.0485\n",
      "0.67 0.85175 0.048\n",
      "0.68 0.84775 0.0455\n",
      "0.69 0.84475 0.045\n",
      "0.7 0.8415 0.04375\n",
      "0.71 0.83825 0.04275\n",
      "0.72 0.83625 0.04175\n",
      "0.73 0.83125 0.041\n",
      "0.74 0.8275 0.04075\n",
      "0.75 0.82325 0.03975\n",
      "0.76 0.819 0.038\n",
      "0.77 0.81525 0.03725\n",
      "0.78 0.81 0.036\n",
      "0.79 0.80625 0.03525\n",
      "0.8 0.80025 0.03375\n",
      "0.81 0.793 0.03225\n",
      "0.82 0.7865 0.0315\n",
      "0.83 0.7795 0.02925\n",
      "0.84 0.773 0.028\n",
      "0.85 0.76575 0.02675\n",
      "0.86 0.756 0.02625\n",
      "0.87 0.74775 0.025\n",
      "0.88 0.73925 0.02375\n",
      "0.89 0.7285 0.0215\n",
      "0.9 0.718 0.0195\n",
      "0.91 0.705 0.0185\n",
      "0.92 0.685 0.0175\n",
      "0.93 0.66575 0.01675\n",
      "0.94 0.64275 0.01475\n",
      "0.95 0.6115 0.01275\n",
      "0.96 0.57275 0.011\n",
      "0.97 0.51125 0.00775\n",
      "0.98 0.42925 0.00575\n",
      "0.99 0.327 0.003\n"
     ]
    }
   ],
   "source": [
    "tp_rates = []\n",
    "fp_rates = []\n",
    "\n",
    "pos = sum(y_true == 1.0)\n",
    "neg = sum(y_true == 0.0)\n",
    "\n",
    "for t in range(0,100, 1):\n",
    "    \n",
    "    threshold = t/100.0\n",
    "    \n",
    "    classification = (y_pred > threshold)*1.0\n",
    "    \n",
    "    true_pos = sum((y_true == 1.0)*(classification==1.0))\n",
    "    true_neg = sum((y_true == 0.0)*(classification==0.0))\n",
    "    \n",
    "    false_pos = sum((y_true == 0.0)*(classification==1.0))\n",
    "    false_neg = sum((y_true == 1.0)*(classification==0.0))\n",
    "    \n",
    "    tpr = true_pos / pos\n",
    "    fpr = false_pos / neg\n",
    "    \n",
    "    print(threshold, tpr, fpr)\n",
    "    \n",
    "    tp_rates.append(tpr)\n",
    "    fp_rates.append(fpr)\n",
    "    \n"
   ]
  },
  {
   "cell_type": "code",
   "execution_count": 15,
   "metadata": {},
   "outputs": [
    {
     "data": {
      "text/plain": [
       "[<matplotlib.lines.Line2D at 0x1e9ce797fc8>]"
      ]
     },
     "execution_count": 15,
     "metadata": {},
     "output_type": "execute_result"
    },
    {
     "data": {
      "image/png": "[encoded data removed]",
      "text/plain": [
       "<Figure size 432x288 with 1 Axes>"
      ]
     },
     "metadata": {
      "needs_background": "light"
     },
     "output_type": "display_data"
    }
   ],
   "source": [
    "plt.plot(fp_rates, tp_rates)"
   ]
  },
  {
   "cell_type": "markdown",
   "metadata": {},
   "source": [
    "True positive rate is the proportion of actual positives which are identified as such. In our case, we want this number to be as high as possible. Also called probability of detection.\n",
    "\n",
    "Let's say that we want to detect 99% of the Heart diseases, what classification threshold should we select?\n",
    "\n",
    "What does it mean then in terms of false positive rate, that is the proportion of diagnostic which were predicted as Heart disease but actually were not? Also called probability of false alarm.\n",
    "\n",
    "We reach a false alarm rate of 60%. \n",
    "If we allow a 95% of detection, the probability of false alarm decreases to 14%.\n",
    "\n",
    "Note that, for completeness, this classification threshold value should have been estimated on the training set, and tested on the testing set."
   ]
  },
  {
   "cell_type": "code",
   "execution_count": null,
   "metadata": {},
   "outputs": [],
   "source": []
  }
 ],
 "metadata": {
  "kernelspec": {
   "display_name": "Python 3",
   "language": "python",
   "name": "python3"
  },
  "language_info": {
   "codemirror_mode": {
    "name": "ipython",
    "version": 3
   },
   "file_extension": ".py",
   "mimetype": "text/x-python",
   "name": "python",
   "nbconvert_exporter": "python",
   "pygments_lexer": "ipython3",
   "version": "3.7.4"
  }
 },
 "nbformat": 4,
 "nbformat_minor": 2
}
