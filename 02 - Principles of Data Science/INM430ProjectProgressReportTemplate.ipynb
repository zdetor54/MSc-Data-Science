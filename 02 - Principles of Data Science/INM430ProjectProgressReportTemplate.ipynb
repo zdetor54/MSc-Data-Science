{
 "cells": [
  {
   "cell_type": "code",
   "execution_count": null,
   "metadata": {},
   "outputs": [],
   "source": []
  },
  {
   "cell_type": "markdown",
   "metadata": {},
   "source": [
    "# INM430 - Tiny DS Project Progress Report\n",
    "\n",
    "\n",
    "**Student Name:** Zacharias Detorakis\n",
    "\n",
    "**Project Title:** Impact of global economic crisis to migration in UK"
   ]
  },
  {
   "cell_type": "markdown",
   "metadata": {},
   "source": [
    "## Part-1: Data source and domain description (maximum 150 words):\n",
    "\n",
    "The scope of this analysis is to investigate the effects of global economic crisis to international migration in the recent years. Even though the long-term effect may need a few more years before it can be properly studied there is now enough evidence to support a short-term analysis. Two separate datasets will be used to support this analysis:\n",
    "- One from the World Bank [http://datatopics.worldbank.org/world-development-indicators/] that has several indices representing the financial status of a country. These data spans 4 decades and comprises a plethora of indicators that need to be assessed for their relevance.\n",
    "- One from the department of work and pensions [https://data.london.gov.uk/dataset/national-insurance-number-registrations-overseas-nationals-borough] which contains data for the NI numbers issued to other nationals over that last few years. UK is used here as a benchmark as it attracts professionals from all over the globe for several reasons.\n",
    "\n",
    "***\n",
    "\n",
    "## Part-2: Analysis Strategy and Plans (maximum 200 words):\n",
    "\n",
    "Initial investigation: understand which of the reported attributes are relevant to the analytical questions that we need to answer. There are numerous columns so we may need to see how we can reduce some of those dimensions (perhaps use some correlation technique to identify dependencies within the data). Perhaps gather some additional data to inform distances between the stated countries and the UK as distance might is an independent factor that affects migration regardless of the crisis so it might be beneficial to include in the model.\n",
    "\n",
    "Assess the data quality and ensure that there is enough data in both datasets to cover the period in question. Identify a way to merge the data (i.e. common keys). Because this is timeseries data and we can to measure the effect of a trend we may need to derive increase or decrease over a period. Perhaps also normalise the data based on the population of the different countries to have all data at the same scale.\n",
    "\n",
    "I’ve not yet decided on the data analysis algorithms as I am expecting some of that to be informed by the feature engineering phase and/or additional knowledge gained in later lectures for the course.\n",
    "\n",
    "...\n",
    "***\n",
    "\n",
    "## Part-3: Initial investigations on the data sources (maximum 150 words): \n",
    "\n",
    "... Insert your text here ...\n",
    "\n",
    "***\n",
    "\n",
    "## Part-4: Python code for initial investigations"
   ]
  },
  {
   "cell_type": "code",
   "execution_count": 2,
   "metadata": {
    "jupyter": {
     "outputs_hidden": false
    }
   },
   "outputs": [],
   "source": [
    "# This cell is where you can copy + paste your Python code which loads your data and produces \n",
    "# When you press CTRL+Enter, this cell will execute and produce some output\n",
    "# You can develop your code in Spyder (or another IDE) and copy + paste over here\n",
    "\n",
    "# Step-1: Load your data\n",
    "# Step-2: Get an overview of the data features, some suggestions to look for:\n",
    "#         number of features, data types, any missing values?, \n",
    "#         any transformations needed?\n",
    "\n",
    "# Start with your import (s) here.\n",
    "\n",
    "# The following is essential to get your matplotlib plots inline, so do not miss this one if you have graphics.\n",
    "\n",
    "%matplotlib inline\n",
    "\n",
    "# Some usual imports here\n",
    "import csv as csv \n",
    "import numpy as np\n",
    "import pandas as pd\n",
    "\n",
    "# Continue here with your code\n",
    "\n",
    "melt()\n",
    "\n"
   ]
  }
 ],
 "metadata": {
  "kernelspec": {
   "display_name": "Python 3",
   "language": "python",
   "name": "python3"
  },
  "language_info": {
   "codemirror_mode": {
    "name": "ipython",
    "version": 3
   },
   "file_extension": ".py",
   "mimetype": "text/x-python",
   "name": "python",
   "nbconvert_exporter": "python",
   "pygments_lexer": "ipython3",
   "version": "3.7.3"
  }
 },
 "nbformat": 4,
 "nbformat_minor": 4
}
